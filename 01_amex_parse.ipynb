{
 "cells": [
  {
   "cell_type": "code",
   "execution_count": 18,
   "id": "109eed18",
   "metadata": {},
   "outputs": [
    {
     "name": "stdout",
     "output_type": "stream",
     "text": [
      "✅ CSV exported to: gs://vercillo_projects/transactions/amex/exports/2025-06-03.csv\n"
     ]
    }
   ],
   "source": [
    "from google.cloud import documentai_v1 as documentai\n",
    "from google.cloud import storage\n",
    "from google.api_core.client_options import ClientOptions\n",
    "import pandas as pd\n",
    "import os\n",
    "\n",
    "# === CONFIG ===\n",
    "os.makedirs(\"./temp\", exist_ok=True)\n",
    "project_id = \"vercillopersonal\"  # ✅ FIXED HERE\n",
    "location = \"us\"\n",
    "processor_id = \"fe61eee8945a8018\"\n",
    "bucket_name = \"vercillo_projects\"\n",
    "input_blob_path = \"transactions/amex/2025/2025-06-03.pdf\"\n",
    "output_blob_path = \"transactions/amex/exports/2025-06-03.csv\"\n",
    "local_pdf_path = \"./temp/amex.pdf\"\n",
    "local_csv_path = \"./temp/amex.csv\"\n",
    "\n",
    "# === Download PDF from GCS ===\n",
    "storage_client = storage.Client()\n",
    "bucket = storage_client.bucket(bucket_name)\n",
    "blob = bucket.blob(input_blob_path)\n",
    "blob.download_to_filename(local_pdf_path)\n",
    "\n",
    "# === Setup Document AI client ===\n",
    "client = documentai.DocumentProcessorServiceClient(\n",
    "    client_options=ClientOptions(api_endpoint=f\"{location}-documentai.googleapis.com\")\n",
    ")\n",
    "name = f\"projects/{project_id}/locations/{location}/processors/{processor_id}\"\n",
    "\n",
    "# === Load PDF content ===\n",
    "with open(local_pdf_path, \"rb\") as f:\n",
    "    raw_document = documentai.RawDocument(content=f.read(), mime_type=\"application/pdf\")\n",
    "\n",
    "# === Call Document AI ===\n",
    "request = documentai.ProcessRequest(name=name, raw_document=raw_document)\n",
    "result = client.process_document(request=request)\n",
    "document = result.document\n",
    "\n",
    "# === Parse Entities ===\n",
    "rows = []\n",
    "for entity in document.entities:\n",
    "    rows.append({\n",
    "        \"field\": entity.type_,\n",
    "        \"value\": entity.mention_text,\n",
    "        \"confidence\": round(entity.confidence, 2),\n",
    "        \"page\": entity.page_anchor.page_refs[0].page if entity.page_anchor.page_refs else None\n",
    "    })\n",
    "\n",
    "df = pd.DataFrame(rows)\n",
    "df_clean = df.pivot_table(index=\"page\", columns=\"field\", values=\"value\", aggfunc=\"first\").reset_index()\n",
    "\n",
    "# === Save to CSV locally ===\n",
    "df_clean.to_csv(local_csv_path, index=False)\n",
    "\n",
    "# === Upload CSV to GCS ===\n",
    "output_blob = bucket.blob(output_blob_path)\n",
    "output_blob.upload_from_filename(local_csv_path)\n",
    "\n",
    "print(f\"✅ CSV exported to: gs://{bucket_name}/{output_blob_path}\")\n"
   ]
  }
 ],
 "metadata": {
  "kernelspec": {
   "display_name": "base",
   "language": "python",
   "name": "python3"
  },
  "language_info": {
   "codemirror_mode": {
    "name": "ipython",
    "version": 3
   },
   "file_extension": ".py",
   "mimetype": "text/x-python",
   "name": "python",
   "nbconvert_exporter": "python",
   "pygments_lexer": "ipython3",
   "version": "3.12.7"
  }
 },
 "nbformat": 4,
 "nbformat_minor": 5
}
