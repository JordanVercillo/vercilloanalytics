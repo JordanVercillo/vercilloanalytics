{
 "cells": [
  {
   "cell_type": "code",
   "execution_count": 5,
   "id": "109eed18",
   "metadata": {},
   "outputs": [
    {
     "name": "stdout",
     "output_type": "stream",
     "text": [
      "✅ Parsed and saved: gs://vercillo_projects/transactions/amex/exports/2025-06-03.json\n"
     ]
    }
   ],
   "source": [
    "from google.cloud import documentai_v1beta3 as documentai\n",
    "from google.cloud import storage\n",
    "import json\n",
    "\n",
    "# --- CONFIG ---\n",
    "project_id = \"vercillopersonal\"\n",
    "location = \"us\"\n",
    "processor_id = \"fe61eee8945a8018\"\n",
    "input_gcs_uri = \"gs://vercillo_projects/transactions/amex/2025/2025-06-03.pdf\"\n",
    "output_gcs_path = \"transactions/amex/exports/2025-06-03.json\"\n",
    "bucket_name = \"vercillo_projects\"\n",
    "\n",
    "# --- GCS Download (PDF as bytes) ---\n",
    "storage_client = storage.Client(project=project_id)\n",
    "bucket = storage_client.bucket(bucket_name)\n",
    "blob_path = input_gcs_uri.replace(f\"gs://{bucket_name}/\", \"\")\n",
    "pdf_blob = bucket.blob(blob_path)\n",
    "pdf_bytes = pdf_blob.download_as_bytes()\n",
    "\n",
    "# --- Document AI client ---\n",
    "client = documentai.DocumentProcessorServiceClient()\n",
    "name = f\"projects/{project_id}/locations/{location}/processors/{processor_id}\"\n",
    "\n",
    "# --- Inline document request ---\n",
    "raw_document = documentai.RawDocument(\n",
    "    content=pdf_bytes,\n",
    "    mime_type=\"application/pdf\"\n",
    ")\n",
    "\n",
    "request = documentai.ProcessRequest(\n",
    "    name=name,\n",
    "    raw_document=raw_document,\n",
    "    skip_human_review=True\n",
    ")\n",
    "\n",
    "result = client.process_document(request=request)\n",
    "document = result.document\n",
    "\n",
    "# --- Extract entities ---\n",
    "entities = []\n",
    "for entity in document.entities:\n",
    "    entities.append({\n",
    "        \"field\": entity.type_,\n",
    "        \"value\": entity.mention_text,\n",
    "        \"confidence\": round(entity.confidence, 2)\n",
    "    })\n",
    "\n",
    "# --- Save to GCS ---\n",
    "output_blob = bucket.blob(output_gcs_path)\n",
    "output_blob.upload_from_string(\n",
    "    data=json.dumps(entities, indent=2),\n",
    "    content_type=\"application/json\"\n",
    ")\n",
    "\n",
    "print(f\"✅ Parsed and saved: gs://{bucket_name}/{output_gcs_path}\")\n"
   ]
  },
  {
   "cell_type": "code",
   "execution_count": 7,
   "id": "e8689f4e",
   "metadata": {},
   "outputs": [
    {
     "name": "stdout",
     "output_type": "stream",
     "text": [
      "✅ File downloaded to: 2025-06-03.json\n",
      "📄 DataFrame preview:\n",
      "    field     value  confidence\n",
      "0  amount  3,755.09        0.84\n",
      "1  amount  5,852.93        1.00\n",
      "2  amount      0.00        0.97\n",
      "3  amount      0.00        1.00\n",
      "4  amount  2.097.84        1.00\n",
      "✅ CSV saved to: 2025-06-03.csv\n"
     ]
    }
   ],
   "source": [
    "from google.cloud import storage\n",
    "import pandas as pd\n",
    "import json\n",
    "\n",
    "# --- CONFIG ---\n",
    "project_id = \"vercillopersonal\"\n",
    "bucket_name = \"vercillo_projects\"\n",
    "gcs_blob_path = \"transactions/amex/exports/2025-06-03.json\"\n",
    "local_json_path = \"2025-06-03.json\"\n",
    "local_csv_path = \"2025-06-03.csv\"\n",
    "\n",
    "# --- GCS Client ---\n",
    "storage_client = storage.Client(project=project_id)\n",
    "bucket = storage_client.bucket(bucket_name)\n",
    "blob = bucket.blob(gcs_blob_path)\n",
    "\n",
    "# --- Download JSON ---\n",
    "blob.download_to_filename(local_json_path)\n",
    "print(f\"✅ File downloaded to: {local_json_path}\")\n",
    "\n",
    "# --- Load JSON as list of dicts ---\n",
    "with open(local_json_path, \"r\") as f:\n",
    "    data = json.load(f)\n",
    "\n",
    "# --- Convert to DataFrame ---\n",
    "df = pd.DataFrame(data)\n",
    "print(\"📄 DataFrame preview:\")\n",
    "print(df.head())\n",
    "\n",
    "# --- Save as CSV ---\n",
    "df.to_csv(local_csv_path, index=False)\n",
    "print(f\"✅ CSV saved to: {local_csv_path}\")\n"
   ]
  }
 ],
 "metadata": {
  "kernelspec": {
   "display_name": "base",
   "language": "python",
   "name": "python3"
  },
  "language_info": {
   "codemirror_mode": {
    "name": "ipython",
    "version": 3
   },
   "file_extension": ".py",
   "mimetype": "text/x-python",
   "name": "python",
   "nbconvert_exporter": "python",
   "pygments_lexer": "ipython3",
   "version": "3.12.7"
  }
 },
 "nbformat": 4,
 "nbformat_minor": 5
}
