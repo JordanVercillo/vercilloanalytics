{
 "cells": [
  {
   "cell_type": "code",
   "execution_count": null,
   "id": "cab90b4f",
   "metadata": {},
   "outputs": [],
   "source": [
    "# pip install google-cloud-storage\n",
    "# !pip install google-cloud-documentai google-cloud-storage pandas"
   ]
  },
  {
   "cell_type": "code",
   "execution_count": 9,
   "id": "7df256a7",
   "metadata": {},
   "outputs": [
    {
     "name": "stdout",
     "output_type": "stream",
     "text": [
      "Requirement already satisfied: google-cloud-documentai in c:\\users\\jverc\\anaconda3\\lib\\site-packages (3.5.0)\n",
      "Requirement already satisfied: google-api-core!=2.0.*,!=2.1.*,!=2.10.*,!=2.2.*,!=2.3.*,!=2.4.*,!=2.5.*,!=2.6.*,!=2.7.*,!=2.8.*,!=2.9.*,<3.0.0,>=1.34.1 in c:\\users\\jverc\\anaconda3\\lib\\site-packages (from google-api-core[grpc]!=2.0.*,!=2.1.*,!=2.10.*,!=2.2.*,!=2.3.*,!=2.4.*,!=2.5.*,!=2.6.*,!=2.7.*,!=2.8.*,!=2.9.*,<3.0.0,>=1.34.1->google-cloud-documentai) (2.25.0)\n",
      "Requirement already satisfied: google-auth!=2.24.0,!=2.25.0,<3.0.0,>=2.14.1 in c:\\users\\jverc\\anaconda3\\lib\\site-packages (from google-cloud-documentai) (2.40.3)\n",
      "Requirement already satisfied: proto-plus<2.0.0,>=1.22.3 in c:\\users\\jverc\\anaconda3\\lib\\site-packages (from google-cloud-documentai) (1.26.1)\n",
      "Requirement already satisfied: protobuf!=4.21.0,!=4.21.1,!=4.21.2,!=4.21.3,!=4.21.4,!=4.21.5,<7.0.0,>=3.20.2 in c:\\users\\jverc\\anaconda3\\lib\\site-packages (from google-cloud-documentai) (6.31.1)\n",
      "Requirement already satisfied: googleapis-common-protos<2.0.0,>=1.56.2 in c:\\users\\jverc\\anaconda3\\lib\\site-packages (from google-api-core!=2.0.*,!=2.1.*,!=2.10.*,!=2.2.*,!=2.3.*,!=2.4.*,!=2.5.*,!=2.6.*,!=2.7.*,!=2.8.*,!=2.9.*,<3.0.0,>=1.34.1->google-api-core[grpc]!=2.0.*,!=2.1.*,!=2.10.*,!=2.2.*,!=2.3.*,!=2.4.*,!=2.5.*,!=2.6.*,!=2.7.*,!=2.8.*,!=2.9.*,<3.0.0,>=1.34.1->google-cloud-documentai) (1.70.0)\n",
      "Requirement already satisfied: requests<3.0.0,>=2.18.0 in c:\\users\\jverc\\anaconda3\\lib\\site-packages (from google-api-core!=2.0.*,!=2.1.*,!=2.10.*,!=2.2.*,!=2.3.*,!=2.4.*,!=2.5.*,!=2.6.*,!=2.7.*,!=2.8.*,!=2.9.*,<3.0.0,>=1.34.1->google-api-core[grpc]!=2.0.*,!=2.1.*,!=2.10.*,!=2.2.*,!=2.3.*,!=2.4.*,!=2.5.*,!=2.6.*,!=2.7.*,!=2.8.*,!=2.9.*,<3.0.0,>=1.34.1->google-cloud-documentai) (2.32.3)\n",
      "Requirement already satisfied: grpcio<2.0.0,>=1.33.2 in c:\\users\\jverc\\anaconda3\\lib\\site-packages (from google-api-core[grpc]!=2.0.*,!=2.1.*,!=2.10.*,!=2.2.*,!=2.3.*,!=2.4.*,!=2.5.*,!=2.6.*,!=2.7.*,!=2.8.*,!=2.9.*,<3.0.0,>=1.34.1->google-cloud-documentai) (1.72.1)\n",
      "Requirement already satisfied: grpcio-status<2.0.0,>=1.33.2 in c:\\users\\jverc\\anaconda3\\lib\\site-packages (from google-api-core[grpc]!=2.0.*,!=2.1.*,!=2.10.*,!=2.2.*,!=2.3.*,!=2.4.*,!=2.5.*,!=2.6.*,!=2.7.*,!=2.8.*,!=2.9.*,<3.0.0,>=1.34.1->google-cloud-documentai) (1.72.1)\n",
      "Requirement already satisfied: cachetools<6.0,>=2.0.0 in c:\\users\\jverc\\anaconda3\\lib\\site-packages (from google-auth!=2.24.0,!=2.25.0,<3.0.0,>=2.14.1->google-cloud-documentai) (5.3.3)\n",
      "Requirement already satisfied: pyasn1-modules>=0.2.1 in c:\\users\\jverc\\anaconda3\\lib\\site-packages (from google-auth!=2.24.0,!=2.25.0,<3.0.0,>=2.14.1->google-cloud-documentai) (0.2.8)\n",
      "Requirement already satisfied: rsa<5,>=3.1.4 in c:\\users\\jverc\\anaconda3\\lib\\site-packages (from google-auth!=2.24.0,!=2.25.0,<3.0.0,>=2.14.1->google-cloud-documentai) (4.9.1)\n",
      "Requirement already satisfied: pyasn1<0.5.0,>=0.4.6 in c:\\users\\jverc\\anaconda3\\lib\\site-packages (from pyasn1-modules>=0.2.1->google-auth!=2.24.0,!=2.25.0,<3.0.0,>=2.14.1->google-cloud-documentai) (0.4.8)\n",
      "Requirement already satisfied: charset-normalizer<4,>=2 in c:\\users\\jverc\\anaconda3\\lib\\site-packages (from requests<3.0.0,>=2.18.0->google-api-core!=2.0.*,!=2.1.*,!=2.10.*,!=2.2.*,!=2.3.*,!=2.4.*,!=2.5.*,!=2.6.*,!=2.7.*,!=2.8.*,!=2.9.*,<3.0.0,>=1.34.1->google-api-core[grpc]!=2.0.*,!=2.1.*,!=2.10.*,!=2.2.*,!=2.3.*,!=2.4.*,!=2.5.*,!=2.6.*,!=2.7.*,!=2.8.*,!=2.9.*,<3.0.0,>=1.34.1->google-cloud-documentai) (3.3.2)\n",
      "Requirement already satisfied: idna<4,>=2.5 in c:\\users\\jverc\\anaconda3\\lib\\site-packages (from requests<3.0.0,>=2.18.0->google-api-core!=2.0.*,!=2.1.*,!=2.10.*,!=2.2.*,!=2.3.*,!=2.4.*,!=2.5.*,!=2.6.*,!=2.7.*,!=2.8.*,!=2.9.*,<3.0.0,>=1.34.1->google-api-core[grpc]!=2.0.*,!=2.1.*,!=2.10.*,!=2.2.*,!=2.3.*,!=2.4.*,!=2.5.*,!=2.6.*,!=2.7.*,!=2.8.*,!=2.9.*,<3.0.0,>=1.34.1->google-cloud-documentai) (3.7)\n",
      "Requirement already satisfied: urllib3<3,>=1.21.1 in c:\\users\\jverc\\anaconda3\\lib\\site-packages (from requests<3.0.0,>=2.18.0->google-api-core!=2.0.*,!=2.1.*,!=2.10.*,!=2.2.*,!=2.3.*,!=2.4.*,!=2.5.*,!=2.6.*,!=2.7.*,!=2.8.*,!=2.9.*,<3.0.0,>=1.34.1->google-api-core[grpc]!=2.0.*,!=2.1.*,!=2.10.*,!=2.2.*,!=2.3.*,!=2.4.*,!=2.5.*,!=2.6.*,!=2.7.*,!=2.8.*,!=2.9.*,<3.0.0,>=1.34.1->google-cloud-documentai) (2.2.3)\n",
      "Requirement already satisfied: certifi>=2017.4.17 in c:\\users\\jverc\\anaconda3\\lib\\site-packages (from requests<3.0.0,>=2.18.0->google-api-core!=2.0.*,!=2.1.*,!=2.10.*,!=2.2.*,!=2.3.*,!=2.4.*,!=2.5.*,!=2.6.*,!=2.7.*,!=2.8.*,!=2.9.*,<3.0.0,>=1.34.1->google-api-core[grpc]!=2.0.*,!=2.1.*,!=2.10.*,!=2.2.*,!=2.3.*,!=2.4.*,!=2.5.*,!=2.6.*,!=2.7.*,!=2.8.*,!=2.9.*,<3.0.0,>=1.34.1->google-cloud-documentai) (2024.8.30)\n",
      "Note: you may need to restart the kernel to use updated packages.\n"
     ]
    }
   ],
   "source": [
    "pip install --upgrade google-cloud-documentai"
   ]
  },
  {
   "cell_type": "code",
   "execution_count": 8,
   "id": "ee239bb2",
   "metadata": {},
   "outputs": [
    {
     "ename": "ImportError",
     "evalue": "cannot import name 'BatchInputConfig' from 'google.cloud.documentai_v1.types' (c:\\Users\\jverc\\anaconda3\\Lib\\site-packages\\google\\cloud\\documentai_v1\\types\\__init__.py)",
     "output_type": "error",
     "traceback": [
      "\u001b[1;31m---------------------------------------------------------------------------\u001b[0m",
      "\u001b[1;31mImportError\u001b[0m                               Traceback (most recent call last)",
      "Cell \u001b[1;32mIn[8], line 6\u001b[0m\n\u001b[0;32m      4\u001b[0m \u001b[38;5;28;01mimport\u001b[39;00m \u001b[38;5;21;01mpandas\u001b[39;00m \u001b[38;5;28;01mas\u001b[39;00m \u001b[38;5;21;01mpd\u001b[39;00m\n\u001b[0;32m      5\u001b[0m \u001b[38;5;28;01mfrom\u001b[39;00m \u001b[38;5;21;01mgoogle\u001b[39;00m\u001b[38;5;21;01m.\u001b[39;00m\u001b[38;5;21;01mcloud\u001b[39;00m \u001b[38;5;28;01mimport\u001b[39;00m documentai_v1 \u001b[38;5;28;01mas\u001b[39;00m documentai\n\u001b[1;32m----> 6\u001b[0m \u001b[38;5;28;01mfrom\u001b[39;00m \u001b[38;5;21;01mgoogle\u001b[39;00m\u001b[38;5;21;01m.\u001b[39;00m\u001b[38;5;21;01mcloud\u001b[39;00m\u001b[38;5;21;01m.\u001b[39;00m\u001b[38;5;21;01mdocumentai_v1\u001b[39;00m\u001b[38;5;21;01m.\u001b[39;00m\u001b[38;5;21;01mtypes\u001b[39;00m \u001b[38;5;28;01mimport\u001b[39;00m Document, BatchInputConfig, BatchOutputConfig\n\u001b[0;32m      7\u001b[0m \u001b[38;5;28;01mfrom\u001b[39;00m \u001b[38;5;21;01mgoogle\u001b[39;00m\u001b[38;5;21;01m.\u001b[39;00m\u001b[38;5;21;01mcloud\u001b[39;00m \u001b[38;5;28;01mimport\u001b[39;00m storage\n\u001b[0;32m      9\u001b[0m \u001b[38;5;66;03m# 🔧 Config\u001b[39;00m\n",
      "\u001b[1;31mImportError\u001b[0m: cannot import name 'BatchInputConfig' from 'google.cloud.documentai_v1.types' (c:\\Users\\jverc\\anaconda3\\Lib\\site-packages\\google\\cloud\\documentai_v1\\types\\__init__.py)"
     ]
    }
   ],
   "source": [
    "import os\n",
    "import time\n",
    "import json\n",
    "import pandas as pd\n",
    "from google.cloud import documentai_v1 as documentai\n",
    "from google.cloud.documentai_v1.types import Document, BatchInputConfig, BatchOutputConfig\n",
    "from google.cloud import storage\n",
    "\n",
    "# 🔧 Config\n",
    "project_id = \"vercillopersonal\"\n",
    "location = \"us\"\n",
    "processor_id = \"fe61eee8945a8018\"\n",
    "gcs_input_uri = \"gs://vercillo_projects/transactions/amex/2025/2025-06-03.pdf\"\n",
    "gcs_output_uri = \"gs://vercillo_projects/transactions/amex/exports/\"\n",
    "output_csv_path = \"amex_2025_06_03.csv\"\n",
    "\n",
    "client = documentai.DocumentProcessorServiceClient()\n",
    "name = f\"projects/{project_id}/locations/{location}/processors/{processor_id}\"\n",
    "\n",
    "# 🧾 Set up GCS input/output\n",
    "input_config = documentai.BatchProcessRequest.BatchInputConfig(\n",
    "    gcs_source=gcs_input_uri,\n",
    "    mime_type=\"application/pdf\"\n",
    ")\n",
    "output_config = documentai.BatchProcessRequest.BatchOutputConfig(\n",
    "    gcs_destination=gcs_output_uri\n",
    ")\n",
    "\n",
    "# 🛠️ Create the batch process request\n",
    "request = documentai.BatchProcessRequest(\n",
    "    name=name,\n",
    "    input_configs=[input_config],\n",
    "    output_config=output_config\n",
    ")\n",
    "\n",
    "# 🏃‍♂️ Start the batch process\n",
    "operation = client.batch_process_documents(request)\n",
    "\n",
    "print(\"⏳ Processing... this may take a moment\")\n",
    "operation.result(timeout=300)  # wait max 5 minutes\n",
    "\n",
    "print(\"✅ Document processed and output stored in GCS\")\n",
    "\n",
    "# 🔄 Extract .json from output and read it\n",
    "bucket_name = \"vercillo_projects\"\n",
    "output_prefix = \"transactions/amex/exports/\"\n",
    "storage_client = storage.Client()\n",
    "bucket = storage_client.bucket(bucket_name)\n",
    "blobs = list(bucket.list_blobs(prefix=output_prefix))\n",
    "\n",
    "# Find the output JSON (Document AI writes one or more)\n",
    "json_blobs = [b for b in blobs if b.name.endswith(\".json\")]\n",
    "\n",
    "if not json_blobs:\n",
    "    raise FileNotFoundError(\"❌ No output JSON found in the specified GCS folder.\")\n",
    "\n",
    "# Download the first JSON\n",
    "json_blob = json_blobs[0]\n",
    "json_blob.download_to_filename(\"output.json\")\n",
    "\n",
    "# 📖 Parse Document object\n",
    "from google.cloud.documentai_v1.types import Document\n",
    "import json\n",
    "\n",
    "with open(\"output.json\", \"r\") as f:\n",
    "    doc_data = json.load(f)\n",
    "\n",
    "document = Document.from_json(json.dumps(doc_data))\n",
    "\n",
    "# 📊 Extract entities\n",
    "entities = []\n",
    "for entity in document.entities:\n",
    "    entities.append({\n",
    "        \"type\": entity.type_,\n",
    "        \"value\": entity.mention_text,\n",
    "        \"confidence\": round(entity.confidence, 3),\n",
    "        \"page\": entity.page_anchor.page_refs[0].page if entity.page_anchor.page_refs else None\n",
    "    })\n",
    "\n",
    "df = pd.DataFrame(entities)\n",
    "df.to_csv(output_csv_path, index=False)\n",
    "\n",
    "print(f\"✅ Final CSV exported to: {output_csv_path}\")\n"
   ]
  },
  {
   "cell_type": "code",
   "execution_count": null,
   "id": "921d9b89",
   "metadata": {},
   "outputs": [],
   "source": []
  },
  {
   "cell_type": "code",
   "execution_count": null,
   "id": "884acd85",
   "metadata": {},
   "outputs": [],
   "source": []
  },
  {
   "cell_type": "code",
   "execution_count": null,
   "id": "57863c65",
   "metadata": {},
   "outputs": [],
   "source": []
  }
 ],
 "metadata": {
  "kernelspec": {
   "display_name": "base",
   "language": "python",
   "name": "python3"
  },
  "language_info": {
   "codemirror_mode": {
    "name": "ipython",
    "version": 3
   },
   "file_extension": ".py",
   "mimetype": "text/x-python",
   "name": "python",
   "nbconvert_exporter": "python",
   "pygments_lexer": "ipython3",
   "version": "3.12.7"
  }
 },
 "nbformat": 4,
 "nbformat_minor": 5
}
