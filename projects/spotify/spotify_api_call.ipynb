{
 "cells": [
  {
   "cell_type": "code",
   "execution_count": null,
   "id": "25e6f88b",
   "metadata": {},
   "outputs": [
    {
     "name": "stdout",
     "output_type": "stream",
     "text": [
      "Requirement already satisfied: requests in c:\\users\\jverc\\anaconda3\\lib\\site-packages (2.32.3)\n",
      "Requirement already satisfied: charset-normalizer<4,>=2 in c:\\users\\jverc\\anaconda3\\lib\\site-packages (from requests) (3.3.2)\n",
      "Requirement already satisfied: idna<4,>=2.5 in c:\\users\\jverc\\anaconda3\\lib\\site-packages (from requests) (3.7)\n",
      "Requirement already satisfied: urllib3<3,>=1.21.1 in c:\\users\\jverc\\anaconda3\\lib\\site-packages (from requests) (2.2.3)\n",
      "Requirement already satisfied: certifi>=2017.4.17 in c:\\users\\jverc\\anaconda3\\lib\\site-packages (from requests) (2025.4.26)\n",
      "Note: you may need to restart the kernel to use updated packages.\n"
     ]
    }
   ],
   "source": [
    "import requests\n",
    "\n",
    "# Replace with your token\n",
    "token = \"YOUR_SPOTIFY_TOKEN\"\n",
    "\n",
    "# Track ID\n",
    "track_id = \"0c4IEciLCDdXEhhKxj4ThA\"\n",
    "\n",
    "# Base URL\n",
    "BASE_URL = \"https://api.spotify.com/v1\"\n",
    "\n",
    "# Headers\n",
    "headers = {\n",
    "    \"Authorization\": f\"Bearer {token}\"\n",
    "}\n",
    "\n",
    "# Fetch track details\n",
    "track_resp = requests.get(f\"{BASE_URL}/tracks/{track_id}\", headers=headers)\n",
    "track_data = track_resp.json()\n",
    "\n",
    "# Fetch audio features\n",
    "features_resp = requests.get(f\"{BASE_URL}/audio-features/{track_id}\", headers=headers)\n",
    "features_data = features_resp.json()\n",
    "\n",
    "# Print basic info\n",
    "print(\"\\n🎵 Track Metadata\")\n",
    "print(f\"Name: {track_data.get('name')}\")\n",
    "print(f\"Artist: {track_data['artists'][0]['name']}\")\n",
    "print(f\"Album: {track_data['album']['name']}\")\n",
    "print(f\"Popularity: {track_data.get('popularity')}\")\n",
    "print(f\"Explicit: {track_data.get('explicit')}\")\n",
    "\n",
    "print(\"\\n🎛️ Audio Features\")\n",
    "for key in [\n",
    "    \"danceability\", \"energy\", \"key\", \"loudness\", \"mode\", \"speechiness\",\n",
    "    \"acousticness\", \"instrumentalness\", \"liveness\", \"valence\", \"tempo\"\n",
    "]:\n",
    "    print(f\"{key.capitalize()}: {features_data.get(key)}\")"
   ]
  },
  {
   "cell_type": "code",
   "execution_count": 2,
   "id": "7256172f",
   "metadata": {},
   "outputs": [
    {
     "name": "stdout",
     "output_type": "stream",
     "text": [
      "Collecting spotipy\n",
      "  Downloading spotipy-2.25.1-py3-none-any.whl.metadata (5.1 kB)\n",
      "Collecting redis>=3.5.3 (from spotipy)\n",
      "  Downloading redis-6.2.0-py3-none-any.whl.metadata (10 kB)\n",
      "Requirement already satisfied: requests>=2.25.0 in c:\\users\\jverc\\anaconda3\\lib\\site-packages (from spotipy) (2.32.3)\n",
      "Requirement already satisfied: urllib3>=1.26.0 in c:\\users\\jverc\\anaconda3\\lib\\site-packages (from spotipy) (2.2.3)\n",
      "Requirement already satisfied: charset-normalizer<4,>=2 in c:\\users\\jverc\\anaconda3\\lib\\site-packages (from requests>=2.25.0->spotipy) (3.3.2)\n",
      "Requirement already satisfied: idna<4,>=2.5 in c:\\users\\jverc\\anaconda3\\lib\\site-packages (from requests>=2.25.0->spotipy) (3.7)\n",
      "Requirement already satisfied: certifi>=2017.4.17 in c:\\users\\jverc\\anaconda3\\lib\\site-packages (from requests>=2.25.0->spotipy) (2025.4.26)\n",
      "Downloading spotipy-2.25.1-py3-none-any.whl (31 kB)\n",
      "Downloading redis-6.2.0-py3-none-any.whl (278 kB)\n",
      "Installing collected packages: redis, spotipy\n",
      "Successfully installed redis-6.2.0 spotipy-2.25.1\n",
      "Note: you may need to restart the kernel to use updated packages.\n"
     ]
    }
   ],
   "source": [
    "pip install spotipy"
   ]
  }
 ],
 "metadata": {
  "kernelspec": {
   "display_name": "base",
   "language": "python",
   "name": "python3"
  },
  "language_info": {
   "codemirror_mode": {
    "name": "ipython",
    "version": 3
   },
   "file_extension": ".py",
   "mimetype": "text/x-python",
   "name": "python",
   "nbconvert_exporter": "python",
   "pygments_lexer": "ipython3",
   "version": "3.12.7"
  }
 },
 "nbformat": 4,
 "nbformat_minor": 5
}
