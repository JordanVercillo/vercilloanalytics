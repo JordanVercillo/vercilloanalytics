{
 "cells": [
  {
   "cell_type": "code",
   "execution_count": null,
   "id": "8fd66114",
   "metadata": {},
   "outputs": [],
   "source": [
    "from google.cloud import documentai_v1 as documentai\n",
    "from google.api_core.client_options import ClientOptions\n",
    "from google.cloud import storage\n",
    "import pandas as pd\n",
    "import time\n",
    "from pathlib import Path\n",
    "import json\n",
    "\n",
    "# === CONFIG ===\n",
    "project_id = \"vercillopersonal\"\n",
    "location = \"us\"\n",
    "processor_id = \"fe61eee8945a8018\"\n",
    "\n",
    "# === INPUT/OUTPUT PATHS ===\n",
    "gcs_input_uri = \"gs://vercillo_projects/transactions/amex/data/2022/2025-01-03_cleansed.csv\"\n",
    "filename = Path(gcs_input_uri).name               \n",
    "gcs_output_uri = \"gs://vercillo_projects/transactions/amex/exports/\""
   ]
  },
  {
   "cell_type": "code",
   "execution_count": 1,
   "id": "e37a23b8",
   "metadata": {},
   "outputs": [
    {
     "name": "stdout",
     "output_type": "stream",
     "text": [
      "Collecting gcsfs\n",
      "  Downloading gcsfs-2025.5.1-py2.py3-none-any.whl.metadata (1.9 kB)\n",
      "Requirement already satisfied: aiohttp!=4.0.0a0,!=4.0.0a1 in c:\\users\\jverc\\anaconda3\\lib\\site-packages (from gcsfs) (3.10.5)\n",
      "Requirement already satisfied: decorator>4.1.2 in c:\\users\\jverc\\anaconda3\\lib\\site-packages (from gcsfs) (5.1.1)\n",
      "Collecting fsspec==2025.5.1 (from gcsfs)\n",
      "  Downloading fsspec-2025.5.1-py3-none-any.whl.metadata (11 kB)\n",
      "Requirement already satisfied: google-auth>=1.2 in c:\\users\\jverc\\anaconda3\\lib\\site-packages (from gcsfs) (2.40.3)\n",
      "Collecting google-auth-oauthlib (from gcsfs)\n",
      "  Downloading google_auth_oauthlib-1.2.2-py3-none-any.whl.metadata (2.7 kB)\n",
      "Requirement already satisfied: google-cloud-storage in c:\\users\\jverc\\anaconda3\\lib\\site-packages (from gcsfs) (3.1.0)\n",
      "Requirement already satisfied: requests in c:\\users\\jverc\\anaconda3\\lib\\site-packages (from gcsfs) (2.32.3)\n",
      "Requirement already satisfied: aiohappyeyeballs>=2.3.0 in c:\\users\\jverc\\anaconda3\\lib\\site-packages (from aiohttp!=4.0.0a0,!=4.0.0a1->gcsfs) (2.4.0)\n",
      "Requirement already satisfied: aiosignal>=1.1.2 in c:\\users\\jverc\\anaconda3\\lib\\site-packages (from aiohttp!=4.0.0a0,!=4.0.0a1->gcsfs) (1.2.0)\n",
      "Requirement already satisfied: attrs>=17.3.0 in c:\\users\\jverc\\anaconda3\\lib\\site-packages (from aiohttp!=4.0.0a0,!=4.0.0a1->gcsfs) (23.1.0)\n",
      "Requirement already satisfied: frozenlist>=1.1.1 in c:\\users\\jverc\\anaconda3\\lib\\site-packages (from aiohttp!=4.0.0a0,!=4.0.0a1->gcsfs) (1.4.0)\n",
      "Requirement already satisfied: multidict<7.0,>=4.5 in c:\\users\\jverc\\anaconda3\\lib\\site-packages (from aiohttp!=4.0.0a0,!=4.0.0a1->gcsfs) (6.0.4)\n",
      "Requirement already satisfied: yarl<2.0,>=1.0 in c:\\users\\jverc\\anaconda3\\lib\\site-packages (from aiohttp!=4.0.0a0,!=4.0.0a1->gcsfs) (1.11.0)\n",
      "Requirement already satisfied: cachetools<6.0,>=2.0.0 in c:\\users\\jverc\\anaconda3\\lib\\site-packages (from google-auth>=1.2->gcsfs) (5.3.3)\n",
      "Requirement already satisfied: pyasn1-modules>=0.2.1 in c:\\users\\jverc\\anaconda3\\lib\\site-packages (from google-auth>=1.2->gcsfs) (0.2.8)\n",
      "Requirement already satisfied: rsa<5,>=3.1.4 in c:\\users\\jverc\\anaconda3\\lib\\site-packages (from google-auth>=1.2->gcsfs) (4.9.1)\n",
      "Collecting requests-oauthlib>=0.7.0 (from google-auth-oauthlib->gcsfs)\n",
      "  Downloading requests_oauthlib-2.0.0-py2.py3-none-any.whl.metadata (11 kB)\n",
      "Requirement already satisfied: google-api-core<3.0.0dev,>=2.15.0 in c:\\users\\jverc\\anaconda3\\lib\\site-packages (from google-cloud-storage->gcsfs) (2.25.0)\n",
      "Requirement already satisfied: google-cloud-core<3.0dev,>=2.4.2 in c:\\users\\jverc\\anaconda3\\lib\\site-packages (from google-cloud-storage->gcsfs) (2.4.3)\n",
      "Requirement already satisfied: google-resumable-media>=2.7.2 in c:\\users\\jverc\\anaconda3\\lib\\site-packages (from google-cloud-storage->gcsfs) (2.7.2)\n",
      "Requirement already satisfied: google-crc32c<2.0dev,>=1.0 in c:\\users\\jverc\\anaconda3\\lib\\site-packages (from google-cloud-storage->gcsfs) (1.7.1)\n",
      "Requirement already satisfied: charset-normalizer<4,>=2 in c:\\users\\jverc\\anaconda3\\lib\\site-packages (from requests->gcsfs) (3.3.2)\n",
      "Requirement already satisfied: idna<4,>=2.5 in c:\\users\\jverc\\anaconda3\\lib\\site-packages (from requests->gcsfs) (3.7)\n",
      "Requirement already satisfied: urllib3<3,>=1.21.1 in c:\\users\\jverc\\anaconda3\\lib\\site-packages (from requests->gcsfs) (2.2.3)\n",
      "Requirement already satisfied: certifi>=2017.4.17 in c:\\users\\jverc\\anaconda3\\lib\\site-packages (from requests->gcsfs) (2025.4.26)\n",
      "Requirement already satisfied: googleapis-common-protos<2.0.0,>=1.56.2 in c:\\users\\jverc\\anaconda3\\lib\\site-packages (from google-api-core<3.0.0dev,>=2.15.0->google-cloud-storage->gcsfs) (1.70.0)\n",
      "Requirement already satisfied: protobuf!=3.20.0,!=3.20.1,!=4.21.0,!=4.21.1,!=4.21.2,!=4.21.3,!=4.21.4,!=4.21.5,<7.0.0,>=3.19.5 in c:\\users\\jverc\\anaconda3\\lib\\site-packages (from google-api-core<3.0.0dev,>=2.15.0->google-cloud-storage->gcsfs) (6.31.1)\n",
      "Requirement already satisfied: proto-plus<2.0.0,>=1.22.3 in c:\\users\\jverc\\anaconda3\\lib\\site-packages (from google-api-core<3.0.0dev,>=2.15.0->google-cloud-storage->gcsfs) (1.26.1)\n",
      "Requirement already satisfied: pyasn1<0.5.0,>=0.4.6 in c:\\users\\jverc\\anaconda3\\lib\\site-packages (from pyasn1-modules>=0.2.1->google-auth>=1.2->gcsfs) (0.4.8)\n",
      "Collecting oauthlib>=3.0.0 (from requests-oauthlib>=0.7.0->google-auth-oauthlib->gcsfs)\n",
      "  Downloading oauthlib-3.3.1-py3-none-any.whl.metadata (7.9 kB)\n",
      "Downloading gcsfs-2025.5.1-py2.py3-none-any.whl (36 kB)\n",
      "Downloading fsspec-2025.5.1-py3-none-any.whl (199 kB)\n",
      "Downloading google_auth_oauthlib-1.2.2-py3-none-any.whl (19 kB)\n",
      "Downloading requests_oauthlib-2.0.0-py2.py3-none-any.whl (24 kB)\n",
      "Downloading oauthlib-3.3.1-py3-none-any.whl (160 kB)\n",
      "Installing collected packages: oauthlib, fsspec, requests-oauthlib, google-auth-oauthlib, gcsfs\n",
      "  Attempting uninstall: fsspec\n",
      "    Found existing installation: fsspec 2024.6.1\n",
      "    Uninstalling fsspec-2024.6.1:\n",
      "      Successfully uninstalled fsspec-2024.6.1\n",
      "Successfully installed fsspec-2025.5.1 gcsfs-2025.5.1 google-auth-oauthlib-1.2.2 oauthlib-3.3.1 requests-oauthlib-2.0.0\n",
      "Note: you may need to restart the kernel to use updated packages.\n"
     ]
    },
    {
     "name": "stderr",
     "output_type": "stream",
     "text": [
      "ERROR: pip's dependency resolver does not currently take into account all the packages that are installed. This behaviour is the source of the following dependency conflicts.\n",
      "s3fs 2024.6.1 requires fsspec==2024.6.1.*, but you have fsspec 2025.5.1 which is incompatible.\n"
     ]
    }
   ],
   "source": [
    "pip install gcsfs"
   ]
  }
 ],
 "metadata": {
  "kernelspec": {
   "display_name": "base",
   "language": "python",
   "name": "python3"
  },
  "language_info": {
   "codemirror_mode": {
    "name": "ipython",
    "version": 3
   },
   "file_extension": ".py",
   "mimetype": "text/x-python",
   "name": "python",
   "nbconvert_exporter": "python",
   "pygments_lexer": "ipython3",
   "version": "3.12.7"
  }
 },
 "nbformat": 4,
 "nbformat_minor": 5
}
