{
 "cells": [
  {
   "cell_type": "code",
   "execution_count": 2,
   "id": "52ee0e15",
   "metadata": {},
   "outputs": [],
   "source": [
    "#pip install pyarrow --IMPORT IF NOT INSTALLED\n",
    "\n",
    "import pandas as pd\n",
    "import numpy as np"
   ]
  },
  {
   "cell_type": "code",
   "execution_count": 3,
   "id": "c77c4969",
   "metadata": {},
   "outputs": [],
   "source": [
    "file_path = r\"C:\\Users\\jverc\\OneDrive\\02.DataScienceOD\\exports\\food_fact_dataset.parquet\" # Path to your Parquet file\n",
    "\n",
    "df = pd.read_parquet(file_path)"
   ]
  },
  {
   "cell_type": "code",
   "execution_count": 4,
   "id": "c94d2980",
   "metadata": {},
   "outputs": [
    {
     "name": "stdout",
     "output_type": "stream",
     "text": [
      "<class 'pandas.core.frame.DataFrame'>\n",
      "RangeIndex: 3899497 entries, 0 to 3899496\n",
      "Data columns (total 24 columns):\n",
      " #   Column              Dtype  \n",
      "---  ------              -----  \n",
      " 0   product_name        object \n",
      " 1   product_name_lang   object \n",
      " 2   brands              object \n",
      " 3   barcode             object \n",
      " 4   categories          object \n",
      " 5   countries           object \n",
      " 6   image_url           object \n",
      " 7   ingredients_text    object \n",
      " 8   energy_kcal_100g    float64\n",
      " 9   fat_100g            float64\n",
      " 10  saturated_fat_100g  float64\n",
      " 11  carbohydrates_100g  float64\n",
      " 12  sugars_100g         float64\n",
      " 13  fiber_100g          float64\n",
      " 14  proteins_100g       float64\n",
      " 15  salt_100g           float64\n",
      " 16  nutrition_grade     object \n",
      " 17  nova_group          float64\n",
      " 18  ecoscore_grade      object \n",
      " 19  labels              object \n",
      " 20  allergens           object \n",
      " 21  packaging           object \n",
      " 22  created_t           float64\n",
      " 23  last_modified_t     float64\n",
      "dtypes: float64(11), object(13)\n",
      "memory usage: 714.0+ MB\n"
     ]
    }
   ],
   "source": [
    "df.info()"
   ]
  },
  {
   "cell_type": "code",
   "execution_count": 6,
   "id": "36c00d25",
   "metadata": {},
   "outputs": [
    {
     "data": {
      "text/plain": [
       "nutrition_grade\n",
       "unknown           2520866\n",
       "e                  359525\n",
       "d                  319697\n",
       "c                  259842\n",
       "a                  177278\n",
       "b                  145953\n",
       "not-applicable      86514\n",
       "Name: count, dtype: int64"
      ]
     },
     "execution_count": 6,
     "metadata": {},
     "output_type": "execute_result"
    }
   ],
   "source": [
    "# df['nutrition_grade'].unique()\n",
    "df['nutrition_grade'].value_counts()"
   ]
  },
  {
   "cell_type": "code",
   "execution_count": 8,
   "id": "2a755696",
   "metadata": {},
   "outputs": [
    {
     "data": {
      "text/plain": [
       "nutrition_grade\n",
       "e    359525\n",
       "d    319697\n",
       "c    259842\n",
       "a    177278\n",
       "b    145953\n",
       "Name: count, dtype: int64"
      ]
     },
     "execution_count": 8,
     "metadata": {},
     "output_type": "execute_result"
    }
   ],
   "source": [
    "allowed_grades = ['a', 'b', 'c', 'd', 'e']\n",
    "\n",
    "# Keep only rows with allowed grades\n",
    "df_filtered = df[df['nutrition_grade'].isin(allowed_grades)].copy()\n",
    "\n",
    "# Optionally, confirm the result\n",
    "df_filtered['nutrition_grade'].value_counts()"
   ]
  },
  {
   "cell_type": "code",
   "execution_count": 9,
   "id": "647a4ecb",
   "metadata": {},
   "outputs": [
    {
     "name": "stdout",
     "output_type": "stream",
     "text": [
      "<class 'pandas.core.frame.DataFrame'>\n",
      "Index: 1262295 entries, 0 to 3899457\n",
      "Data columns (total 24 columns):\n",
      " #   Column              Non-Null Count    Dtype  \n",
      "---  ------              --------------    -----  \n",
      " 0   product_name        1245117 non-null  object \n",
      " 1   product_name_lang   1254182 non-null  object \n",
      " 2   brands              1023127 non-null  object \n",
      " 3   barcode             1262295 non-null  object \n",
      " 4   categories          1262295 non-null  object \n",
      " 5   countries           1261756 non-null  object \n",
      " 6   image_url           0 non-null        object \n",
      " 7   ingredients_text    832931 non-null   object \n",
      " 8   energy_kcal_100g    1206955 non-null  float64\n",
      " 9   fat_100g            1241192 non-null  float64\n",
      " 10  saturated_fat_100g  1210351 non-null  float64\n",
      " 11  carbohydrates_100g  1240097 non-null  float64\n",
      " 12  sugars_100g         1230734 non-null  float64\n",
      " 13  fiber_100g          696778 non-null   float64\n",
      " 14  proteins_100g       1241168 non-null  float64\n",
      " 15  salt_100g           1241798 non-null  float64\n",
      " 16  nutrition_grade     1262295 non-null  object \n",
      " 17  nova_group          773236 non-null   float64\n",
      " 18  ecoscore_grade      381702 non-null   object \n",
      " 19  labels              747060 non-null   object \n",
      " 20  allergens           1262295 non-null  object \n",
      " 21  packaging           471074 non-null   object \n",
      " 22  created_t           1262295 non-null  float64\n",
      " 23  last_modified_t     1262295 non-null  float64\n",
      "dtypes: float64(11), object(13)\n",
      "memory usage: 240.8+ MB\n"
     ]
    }
   ],
   "source": [
    "df_filtered.info()"
   ]
  },
  {
   "cell_type": "code",
   "execution_count": 12,
   "id": "e7da6509",
   "metadata": {},
   "outputs": [
    {
     "data": {
      "text/plain": [
       "carbohydrates_100g\n",
       "0.000000     104102\n",
       "0.500000      31389\n",
       "1.000000      20545\n",
       "11.000000     11770\n",
       "12.000000     11456\n",
       "              ...  \n",
       "8.387096          1\n",
       "11.828000         1\n",
       "39.509998         1\n",
       "22.340425         1\n",
       "63.590000         1\n",
       "Name: count, Length: 14693, dtype: int64"
      ]
     },
     "execution_count": 12,
     "metadata": {},
     "output_type": "execute_result"
    }
   ],
   "source": [
    "df_filtered['carbohydrates_100g'].value_counts()"
   ]
  },
  {
   "cell_type": "code",
   "execution_count": 13,
   "id": "385a4d9d",
   "metadata": {},
   "outputs": [],
   "source": [
    "output_path = r\"C:\\Users\\jverc\\OneDrive\\02.DataScienceOD\\exports\\food_fact_dataset_cleaned.parquet\" # Update the output path as needed\n",
    "\n",
    "df_filtered.to_parquet(output_path, index=False)"
   ]
  },
  {
   "cell_type": "code",
   "execution_count": null,
   "id": "ffc7fb12",
   "metadata": {},
   "outputs": [],
   "source": []
  },
  {
   "cell_type": "code",
   "execution_count": null,
   "id": "5997b492",
   "metadata": {},
   "outputs": [],
   "source": []
  },
  {
   "cell_type": "code",
   "execution_count": null,
   "id": "0b99a4c5",
   "metadata": {},
   "outputs": [],
   "source": []
  }
 ],
 "metadata": {
  "kernelspec": {
   "display_name": "base",
   "language": "python",
   "name": "python3"
  },
  "language_info": {
   "codemirror_mode": {
    "name": "ipython",
    "version": 3
   },
   "file_extension": ".py",
   "mimetype": "text/x-python",
   "name": "python",
   "nbconvert_exporter": "python",
   "pygments_lexer": "ipython3",
   "version": "3.12.7"
  }
 },
 "nbformat": 4,
 "nbformat_minor": 5
}
