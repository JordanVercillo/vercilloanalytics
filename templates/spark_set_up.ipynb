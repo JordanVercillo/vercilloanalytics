{
 "cells": [
  {
   "cell_type": "code",
   "execution_count": 2,
   "id": "f016ab43",
   "metadata": {},
   "outputs": [
    {
     "name": "stdout",
     "output_type": "stream",
     "text": [
      "✅ Spark session running in VS Code!\n",
      "Spark version: 4.0.0\n"
     ]
    }
   ],
   "source": [
    "from pyspark.sql import SparkSession\n",
    "\n",
    "spark = SparkSession.builder \\\n",
    "    .appName(\"VSCodeTest\") \\\n",
    "    .master(\"local[*]\") \\\n",
    "    .getOrCreate()\n",
    "\n",
    "print(\"✅ Spark session running in VS Code!\")\n",
    "print(\"Spark version:\", spark.version)"
   ]
  },
  {
   "cell_type": "code",
   "execution_count": 17,
   "id": "d2337f94",
   "metadata": {},
   "outputs": [],
   "source": [
    "from openai import OpenAI\n",
    "from IPython.display import Markdown, display\n",
    "import unicodedata\n",
    "\n",
    "# Connect to your local Ollama server\n",
    "client = OpenAI(\n",
    "    base_url=\"http://localhost:11434/v1\",\n",
    "    api_key=\"ollama\"  # Dummy key required by SDK\n",
    ")\n",
    "\n",
    "def ask_local_gpt(prompt: str, model=\"gpt-oss:20b\", system_message=None, render_markdown=True):\n",
    "    messages = []\n",
    "    if system_message:\n",
    "        messages.append({\"role\": \"system\", \"content\": system_message})\n",
    "    messages.append({\"role\": \"user\", \"content\": prompt})\n",
    "\n",
    "    response = client.chat.completions.create(\n",
    "        model=model,\n",
    "        messages=messages,\n",
    "    )\n",
    "\n",
    "    raw_output = response.choices[0].message.content\n",
    "\n",
    "    # Normalize spacing but preserve formatting\n",
    "    clean_output = unicodedata.normalize(\"NFKC\", raw_output).replace(\"\\u202f\", \" \")\n",
    "\n",
    "    if render_markdown:\n",
    "        display(Markdown(clean_output))\n",
    "    return clean_output\n"
   ]
  },
  {
   "cell_type": "code",
   "execution_count": 18,
   "id": "09672382",
   "metadata": {},
   "outputs": [
    {
     "data": {
      "text/markdown": [
       "The full equation is:\n",
       "\n",
       "\\[\n",
       "1 + 1 = 2\n",
       "\\]"
      ],
      "text/plain": [
       "<IPython.core.display.Markdown object>"
      ]
     },
     "metadata": {},
     "output_type": "display_data"
    },
    {
     "data": {
      "text/plain": [
       "'The full equation is:\\n\\n\\\\[\\n1 + 1 = 2\\n\\\\]'"
      ]
     },
     "execution_count": 18,
     "metadata": {},
     "output_type": "execute_result"
    }
   ],
   "source": [
    "ask_local_gpt(\"What's 1 + 1? Give me the whole equation.\")"
   ]
  },
  {
   "cell_type": "code",
   "execution_count": 2,
   "id": "2668bbbc",
   "metadata": {},
   "outputs": [],
   "source": [
    "spark.stop()"
   ]
  }
 ],
 "metadata": {
  "kernelspec": {
   "display_name": "base",
   "language": "python",
   "name": "python3"
  },
  "language_info": {
   "codemirror_mode": {
    "name": "ipython",
    "version": 3
   },
   "file_extension": ".py",
   "mimetype": "text/x-python",
   "name": "python",
   "nbconvert_exporter": "python",
   "pygments_lexer": "ipython3",
   "version": "3.12.7"
  }
 },
 "nbformat": 4,
 "nbformat_minor": 5
}
