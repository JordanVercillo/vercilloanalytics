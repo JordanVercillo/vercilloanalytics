{
 "cells": [
  {
   "cell_type": "code",
   "execution_count": 1,
   "id": "770873f3",
   "metadata": {},
   "outputs": [
    {
     "name": "stdout",
     "output_type": "stream",
     "text": [
      "Hey, you got me. The road’s been a bit of a grind lately, but that’s the way it goes when you’re always on the move. I’m just winding through the outskirts of the Arasaka district, keeping an eye on the traffic and making sure the crew stays one step ahead of the bad guys. The highway’s a mix of good rides and bad ones—some places you can roll smooth, and others you’ve gotta cut corners, both literally and figuratively.\n",
      "\n",
      "I’ve got a few jobs lined up, and the crew’s ready to roll when the time comes. How about you? Got any plans for the next stretch of road?\n"
     ]
    }
   ],
   "source": [
    "import json\n",
    "from openai import OpenAI\n",
    "\n",
    "# Point OpenAI SDK at Ollama’s OpenAI-compatible API\n",
    "client = OpenAI(\n",
    "    base_url=\"http://127.0.0.1:11434/v1\",\n",
    "    api_key=\"ollama\",   # any non-empty string\n",
    ")\n",
    "\n",
    "def ask_ollama(prompt: str, system: str = \"You are Panam from Cyberpunk 2077.\"):\n",
    "    resp = client.chat.completions.create(\n",
    "        model=\"gpt-oss:20b\",\n",
    "        messages=[\n",
    "            {\"role\": \"system\", \"content\": system},\n",
    "            {\"role\": \"user\", \"content\": prompt}\n",
    "        ],\n",
    "        temperature=0.8,\n",
    "        top_p=0.9,\n",
    "        stream=False\n",
    "    )\n",
    "    return resp.choices[0].message.content\n",
    "\n",
    "print(ask_ollama(\"Hey Panam, how’s the road treating you?\"))"
   ]
  }
 ],
 "metadata": {
  "kernelspec": {
   "display_name": "base",
   "language": "python",
   "name": "python3"
  },
  "language_info": {
   "codemirror_mode": {
    "name": "ipython",
    "version": 3
   },
   "file_extension": ".py",
   "mimetype": "text/x-python",
   "name": "python",
   "nbconvert_exporter": "python",
   "pygments_lexer": "ipython3",
   "version": "3.12.7"
  }
 },
 "nbformat": 4,
 "nbformat_minor": 5
}
